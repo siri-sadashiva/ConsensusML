{
 "cells": [
  {
   "cell_type": "code",
   "execution_count": 51,
   "metadata": {},
   "outputs": [],
   "source": [
    "import matplotlib.pyplot as plt\n",
    "import pandas as pd\n",
    "import seaborn as sns\n",
    "from sklearn.model_selection import train_test_split\n",
    "from sklearn.ensemble import RandomForestClassifier\n",
    "\n",
    "from sklearn.metrics import confusion_matrix, classification_report\n",
    "from sklearn.tree import DecisionTreeClassifier\n",
    "from sklearn.metrics import accuracy_score\n",
    "\n",
    "from sklearn.model_selection import KFold \n",
    "from sklearn.metrics import roc_curve,auc\n",
    "from sklearn.ensemble import AdaBoostClassifier\n",
    "\n",
    "from sklearn.externals.six import StringIO  \n",
    "from IPython.display import Image  \n",
    "from sklearn.tree import export_graphviz\n",
    "import pydotplus\n",
    "from clean import assay_transpose\n",
    "from clean import manifest_clinical_merge\n",
    "from clean import assay_clinical_merge\n",
    "import numpy as np\n",
    "from sklearn.linear_model import RidgeCV, LassoCV, Ridge, Lasso\n",
    "\n",
    "#! pip install --user beautifultable\n"
   ]
  },
  {
   "cell_type": "code",
   "execution_count": 48,
   "metadata": {},
   "outputs": [],
   "source": [
    "#pd.set_option('display.max_columns', None)\n"
   ]
  },
  {
   "cell_type": "code",
   "execution_count": 2,
   "metadata": {},
   "outputs": [
    {
     "name": "stderr",
     "output_type": "stream",
     "text": [
      "/Users/sirisadashiva/Desktop/BioInformatics/ConsensusML-master/clean.py:16: SettingWithCopyWarning: \n",
      "A value is trying to be set on a copy of a slice from a DataFrame.\n",
      "Try using .loc[row_indexer,col_indexer] = value instead\n",
      "\n",
      "See the caveats in the documentation: http://pandas.pydata.org/pandas-docs/stable/indexing.html#indexing-view-versus-copy\n",
      "  target_df['TARGET USI'] = target_df.loc[:, 'entity_submitter_id'].apply(lambda x: x[:16])\n"
     ]
    }
   ],
   "source": [
    "manifest_df = pd.read_csv('../ConsensusML-master/Manifest_Data/GCD_TARGET_Data_Manifest_AML_NBL_WT_RT.csv')\n",
    "\n",
    "wt_disc_df = pd.read_excel('../ConsensusML-master/Clinical_Data/TARGET_WT_ClinicalData_Discovery_20160714_public.xlsx')\n",
    "aml_disc_df = pd.read_excel('../ConsensusML-master/Clinical_Data/TARGET_AML_ClinicalData_20160714.xlsx')\n",
    "nbl_disc_df = pd.read_excel('../ConsensusML-master/Clinical_Data/TARGET_NBL_ClinicalData_20151124.xlsx')\n",
    "\n",
    "WT_df = manifest_clinical_merge(manifest_df, wt_disc_df, 'TARGET-WT')\n",
    "AML_df = manifest_clinical_merge(manifest_df, aml_disc_df, 'TARGET-AML')\n",
    "NBL_df = manifest_clinical_merge(manifest_df, nbl_disc_df, 'TARGET-NBL')"
   ]
  },
  {
   "cell_type": "code",
   "execution_count": 3,
   "metadata": {},
   "outputs": [],
   "source": [
    "assay_df = pd.read_csv('../ConsensusML-master/Expn_Data/TARGET_NBL_AML_RT_WT_TMMCPM_log2_Norm_Counts.csv.zip')\n",
    "assay_t_df = assay_transpose(assay_df)\n",
    "AML_genes = assay_clinical_merge(assay_t_df, AML_df)\n",
    "WT_genes = assay_clinical_merge(assay_t_df, WT_df)\n",
    "NBL_genes = assay_clinical_merge(assay_t_df, NBL_df)"
   ]
  },
  {
   "cell_type": "markdown",
   "metadata": {},
   "source": [
    "### Find the median for the column 'Event Free Survival Time in Days'"
   ]
  },
  {
   "cell_type": "code",
   "execution_count": 32,
   "metadata": {},
   "outputs": [
    {
     "data": {
      "text/plain": [
       "313.0"
      ]
     },
     "execution_count": 32,
     "metadata": {},
     "output_type": "execute_result"
    }
   ],
   "source": [
    "med = WT_genes['Event Free Survival Time in Days'].median()\n",
    "med"
   ]
  },
  {
   "cell_type": "code",
   "execution_count": 39,
   "metadata": {},
   "outputs": [
    {
     "data": {
      "text/plain": [
       "(132, 21448)"
      ]
     },
     "execution_count": 39,
     "metadata": {},
     "output_type": "execute_result"
    }
   ],
   "source": [
    "WT_genes.shape"
   ]
  },
  {
   "cell_type": "code",
   "execution_count": 33,
   "metadata": {},
   "outputs": [],
   "source": [
    "# 0 <= 313 , 1 > 313 \n",
    "WT_genes['Survival Time'] = WT_genes['Event Free Survival Time in Days'].apply(lambda x: 0 if x<= 313 else 1)\n",
    "data = WT_genes.iloc[:, 40:-4]\n"
   ]
  },
  {
   "cell_type": "code",
   "execution_count": 63,
   "metadata": {},
   "outputs": [],
   "source": [
    "#data.shape\n",
    "y = WT_genes.loc[WT_genes.index, 'Survival Time']"
   ]
  },
  {
   "cell_type": "code",
   "execution_count": 56,
   "metadata": {},
   "outputs": [],
   "source": [
    "X = data\n",
    "X = X.apply(pd.to_numeric)"
   ]
  },
  {
   "cell_type": "code",
   "execution_count": 57,
   "metadata": {},
   "outputs": [],
   "source": [
    "correlation_matrix = X.corr()"
   ]
  },
  {
   "cell_type": "code",
   "execution_count": 58,
   "metadata": {},
   "outputs": [],
   "source": [
    "upper = correlation_matrix.where(np.triu(np.ones(correlation_matrix.shape), k=1).astype(np.bool))\n",
    "to_drop = [column for column in upper.columns if any(upper[column] >= 0.80)]"
   ]
  },
  {
   "cell_type": "code",
   "execution_count": 59,
   "metadata": {},
   "outputs": [],
   "source": [
    "for i in to_drop:\n",
    "    del X[i]"
   ]
  },
  {
   "cell_type": "code",
   "execution_count": 60,
   "metadata": {},
   "outputs": [
    {
     "data": {
      "text/plain": [
       "(132, 17658)"
      ]
     },
     "execution_count": 60,
     "metadata": {},
     "output_type": "execute_result"
    }
   ],
   "source": [
    "X.shape"
   ]
  },
  {
   "cell_type": "code",
   "execution_count": 71,
   "metadata": {},
   "outputs": [],
   "source": [
    "X_train, X_test, y_train, y_test = train_test_split(X, y, test_size=0.33, random_state=8)"
   ]
  },
  {
   "cell_type": "code",
   "execution_count": 72,
   "metadata": {},
   "outputs": [],
   "source": [
    "#Initialize K-Fold: k = 10\n",
    "kf = KFold(n_splits=10,shuffle=True)\n",
    "\n",
    "#Random Forest Classifier\n",
    "clf = RandomForestClassifier(n_estimators=100)\n",
    "\n",
    "#Initialize predictions\n",
    "#Intitialize True Positive, False Positive True Negative, False Negative to extract from confusion matrix in each run\n",
    "predictions =[]\n",
    "TP = []\n",
    "FP = []\n",
    "FN = []\n",
    "TN = []\n",
    "\n",
    "#Run 10 times\n",
    "for k, (train, test) in enumerate(kf.split(X, y)):\n",
    "    #Fit and train the model\n",
    "    clf.fit(X_train,y_train)\n",
    "    \n",
    "    #Get the prediction\n",
    "    predictions.append(clf.score(X_test, y_test))\n",
    "    \n",
    "    #Get the confusion matrix and extract the values to append to the lists\n",
    "    cm = confusion_matrix(y_test, clf.predict(X_test))\n",
    "    TP.append(cm[0][0])\n",
    "    FP.append(cm[0][1])\n",
    "    FN.append(cm[1][0])\n",
    "    TN.append(cm[1][1])"
   ]
  },
  {
   "cell_type": "code",
   "execution_count": 73,
   "metadata": {},
   "outputs": [
    {
     "name": "stdout",
     "output_type": "stream",
     "text": [
      "+---------------+----------------+---------------+----------------+\n",
      "| True Positive | False Positive | True Negative | False Negative |\n",
      "+---------------+----------------+---------------+----------------+\n",
      "|      16       |       9        |      14       |       5        |\n",
      "+---------------+----------------+---------------+----------------+\n",
      "|      13       |       12       |      16       |       3        |\n",
      "+---------------+----------------+---------------+----------------+\n",
      "|      14       |       11       |      14       |       5        |\n",
      "+---------------+----------------+---------------+----------------+\n",
      "|      14       |       11       |      14       |       5        |\n",
      "+---------------+----------------+---------------+----------------+\n",
      "|      15       |       10       |      13       |       6        |\n",
      "+---------------+----------------+---------------+----------------+\n",
      "|      12       |       13       |      13       |       6        |\n",
      "+---------------+----------------+---------------+----------------+\n",
      "|      12       |       13       |      14       |       5        |\n",
      "+---------------+----------------+---------------+----------------+\n",
      "|      15       |       10       |      12       |       7        |\n",
      "+---------------+----------------+---------------+----------------+\n",
      "|      11       |       14       |      15       |       4        |\n",
      "+---------------+----------------+---------------+----------------+\n",
      "|      11       |       14       |      13       |       6        |\n",
      "+---------------+----------------+---------------+----------------+\n"
     ]
    }
   ],
   "source": [
    "#import library\n",
    "from beautifultable import BeautifulTable\n",
    "\n",
    "#Initialize the table \n",
    "table = BeautifulTable()\n",
    "\n",
    "#Add headers\n",
    "table.column_headers = [\"True Positive\", \"False Positive\", \"True Negative\", \"False Negative\"]\n",
    "\n",
    "#Add the rows \n",
    "for i in range(0,10):\n",
    "    table.append_row([TP[i], FP[i], TN[i],FN[i]])\n",
    "    \n",
    "#Display table\n",
    "print(table)"
   ]
  },
  {
   "cell_type": "code",
   "execution_count": 74,
   "metadata": {},
   "outputs": [],
   "source": [
    "#Sum all the True Positives, False Positives True Negatives, False Negatives obtained in each run\n",
    "sum_TP = sum(TP)\n",
    "sum_FP = sum(FP)\n",
    "sum_FN = sum(FN)\n",
    "sum_TN = sum(TN)\n",
    "\n",
    "#Obtain the rates \n",
    "TPR = sum_TP/(sum_TP+sum_FN)\n",
    "TNR = sum_TN/(sum_TN+sum_FP) \n",
    "FPR = sum_FP/(sum_FP+sum_TN)\n",
    "FNR = sum_FN/(sum_TP+sum_FN)"
   ]
  },
  {
   "cell_type": "code",
   "execution_count": 75,
   "metadata": {},
   "outputs": [
    {
     "name": "stdout",
     "output_type": "stream",
     "text": [
      "+------------------+-------------------+------------------+--------------------+\n",
      "| True Positive Ra | False Positive Ra | True Negative Ra | False Negative Rat |\n",
      "|        te        |        te         |        te        |         e          |\n",
      "+------------------+-------------------+------------------+--------------------+\n",
      "|      0.719       |       0.459       |      0.541       |       0.281        |\n",
      "+------------------+-------------------+------------------+--------------------+\n"
     ]
    }
   ],
   "source": [
    "#Initialize table\n",
    "table2 = BeautifulTable()\n",
    "\n",
    "#Add headers \n",
    "table2.column_headers = [\"True Positive Rate\", \"False Positive Rate\", \"True Negative Rate\", \"False Negative Rate\"]\n",
    "\n",
    "#Add rows \n",
    "table2.append_row([TPR, FPR, TNR, FNR])\n",
    "\n",
    "#Display table\n",
    "print(table2)"
   ]
  },
  {
   "cell_type": "code",
   "execution_count": 76,
   "metadata": {},
   "outputs": [
    {
     "name": "stdout",
     "output_type": "stream",
     "text": [
      "Accuracy of the Random Forest Classifier is \n",
      "0.615909090909\n"
     ]
    }
   ],
   "source": [
    "#Accuracy \n",
    "print(\"Accuracy of the Random Forest Classifier is \")\n",
    "print(sum(predictions) / float(len(predictions)))"
   ]
  },
  {
   "cell_type": "code",
   "execution_count": 77,
   "metadata": {},
   "outputs": [
    {
     "data": {
      "text/plain": [
       "<matplotlib.axes._subplots.AxesSubplot at 0x1b2a13f6a0>"
      ]
     },
     "execution_count": 77,
     "metadata": {},
     "output_type": "execute_result"
    },
    {
     "data": {
      "image/png": "[encoded data removed]",
      "text/plain": [
       "<matplotlib.figure.Figure at 0x1b2a13fe80>"
      ]
     },
     "metadata": {},
     "output_type": "display_data"
    }
   ],
   "source": [
    "(pd.Series(clf.feature_importances_, index=X.columns).nlargest(10).plot(kind='barh')) "
   ]
  },
  {
   "cell_type": "code",
   "execution_count": null,
   "metadata": {},
   "outputs": [],
   "source": []
  }
 ],
 "metadata": {
  "kernelspec": {
   "display_name": "Python 3",
   "language": "python",
   "name": "python3"
  },
  "language_info": {
   "codemirror_mode": {
    "name": "ipython",
    "version": 3
   },
   "file_extension": ".py",
   "mimetype": "text/x-python",
   "name": "python",
   "nbconvert_exporter": "python",
   "pygments_lexer": "ipython3",
   "version": "3.6.4"
  }
 },
 "nbformat": 4,
 "nbformat_minor": 2
}
