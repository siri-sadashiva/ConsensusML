{
 "cells": [
  {
   "cell_type": "markdown",
   "metadata": {},
   "source": [
    "# TCSS 588 BioInformatics Project: Visualization\n",
    "## Siri Sadashiva"
   ]
  },
  {
   "cell_type": "markdown",
   "metadata": {},
   "source": [
    "### README\n",
    "#### The below cell installs all the required dependencies required to run for this notebook. If the installation fails, please install the following by running the commands in the terminal:\n",
    "\n",
    "### Scikit\n",
    "1. conda install scikit-learn (OR)\n",
    "2. pip install -U scikit-learn\n",
    "\n",
    "---------------------------------------------------------------------------------------------------------------------\n",
    "### Matplotlib\n",
    "1. conda install -c conda-forge matplotlib (OR)\n",
    "2. pip install --upgrade setuptools \n",
    "   pip install matplotlib\n",
    "\n",
    "---------------------------------------------------------------------------------------------------------------------\n",
    "\n",
    "### Pandas:\n",
    "\n",
    "conda install pandas (OR)\n",
    "pip install pandas\n",
    "\n",
    "---------------------------------------------------------------------------------------------------------------\n",
    "\n",
    "### Numpy \n",
    "\n",
    "conda install -c anaconda numpy (OR)\n",
    "pip install numpy\n",
    "\n",
    "---------------------------------------------------------------------------------------------------------------\n",
    "### Scipy\n",
    "\n",
    "pip install scipy\n",
    "\n",
    "---------------------------------------------------------------------------------------------------------------\n",
    "### Plotly\n",
    "\n",
    "pip install plotly\n",
    "\n",
    "pip install plotly --upgrade\n",
    "\n",
    "---------------------------------------------------------------------------------------------------------------\n",
    "\n",
    "### Other requirements:\n",
    "\n",
    "1. When running the BioInformatics_AML.ipynb notebook, please make sure all the folders Clinical_Data, Expn_Data, Manifest_Data and clean.py file are present in the same directory.\n",
    "2. While reading the csv files, change the pathname to read the files from the current directory. \n"
   ]
  },
  {
   "cell_type": "code",
   "execution_count": 113,
   "metadata": {},
   "outputs": [
    {
     "name": "stdout",
     "output_type": "stream",
     "text": [
      "Requirement already satisfied: scikit-learn in /Users/sirisadashiva/anaconda3/lib/python3.6/site-packages (0.19.1)\n",
      "Requirement already satisfied: seaborn==0.9.0 in /Users/sirisadashiva/anaconda3/lib/python3.6/site-packages (0.9.0)\n",
      "Requirement already satisfied: numpy>=1.9.3 in /Users/sirisadashiva/anaconda3/lib/python3.6/site-packages (from seaborn==0.9.0) (1.12.1)\n",
      "Requirement already satisfied: scipy>=0.14.0 in /Users/sirisadashiva/anaconda3/lib/python3.6/site-packages (from seaborn==0.9.0) (1.0.0)\n",
      "Requirement already satisfied: matplotlib>=1.4.3 in /Users/sirisadashiva/anaconda3/lib/python3.6/site-packages (from seaborn==0.9.0) (2.1.2)\n",
      "Requirement already satisfied: pandas>=0.15.2 in /Users/sirisadashiva/anaconda3/lib/python3.6/site-packages (from seaborn==0.9.0) (0.22.0)\n",
      "Requirement already satisfied: six>=1.10 in /Users/sirisadashiva/anaconda3/lib/python3.6/site-packages (from matplotlib>=1.4.3->seaborn==0.9.0) (1.11.0)\n",
      "Requirement already satisfied: python-dateutil>=2.1 in /Users/sirisadashiva/.local/lib/python3.6/site-packages (from matplotlib>=1.4.3->seaborn==0.9.0) (2.7.3)\n",
      "Requirement already satisfied: pytz in /Users/sirisadashiva/anaconda3/lib/python3.6/site-packages (from matplotlib>=1.4.3->seaborn==0.9.0) (2018.4)\n",
      "Requirement already satisfied: cycler>=0.10 in /Users/sirisadashiva/anaconda3/lib/python3.6/site-packages (from matplotlib>=1.4.3->seaborn==0.9.0) (0.10.0)\n",
      "Requirement already satisfied: pyparsing!=2.0.4,!=2.1.2,!=2.1.6,>=2.0.1 in /Users/sirisadashiva/anaconda3/lib/python3.6/site-packages (from matplotlib>=1.4.3->seaborn==0.9.0) (2.2.0)\n",
      "Requirement already satisfied: matplotlib-venn in /Users/sirisadashiva/anaconda3/lib/python3.6/site-packages (0.11.5)\n",
      "Requirement already satisfied: matplotlib in /Users/sirisadashiva/anaconda3/lib/python3.6/site-packages (from matplotlib-venn) (2.1.2)\n",
      "Requirement already satisfied: scipy in /Users/sirisadashiva/anaconda3/lib/python3.6/site-packages (from matplotlib-venn) (1.0.0)\n",
      "Requirement already satisfied: numpy in /Users/sirisadashiva/anaconda3/lib/python3.6/site-packages (from matplotlib-venn) (1.12.1)\n",
      "Requirement already satisfied: six>=1.10 in /Users/sirisadashiva/anaconda3/lib/python3.6/site-packages (from matplotlib->matplotlib-venn) (1.11.0)\n",
      "Requirement already satisfied: python-dateutil>=2.1 in /Users/sirisadashiva/.local/lib/python3.6/site-packages (from matplotlib->matplotlib-venn) (2.7.3)\n",
      "Requirement already satisfied: pytz in /Users/sirisadashiva/anaconda3/lib/python3.6/site-packages (from matplotlib->matplotlib-venn) (2018.4)\n",
      "Requirement already satisfied: cycler>=0.10 in /Users/sirisadashiva/anaconda3/lib/python3.6/site-packages (from matplotlib->matplotlib-venn) (0.10.0)\n",
      "Requirement already satisfied: pyparsing!=2.0.4,!=2.1.2,!=2.1.6,>=2.0.1 in /Users/sirisadashiva/anaconda3/lib/python3.6/site-packages (from matplotlib->matplotlib-venn) (2.2.0)\n",
      "Requirement already satisfied: scipy in /Users/sirisadashiva/anaconda3/lib/python3.6/site-packages (1.0.0)\n",
      "Requirement already satisfied: plotly in /Users/sirisadashiva/anaconda3/lib/python3.6/site-packages (2.6.0)\n",
      "Requirement already satisfied: six in /Users/sirisadashiva/anaconda3/lib/python3.6/site-packages (from plotly) (1.11.0)\n",
      "Requirement already satisfied: decorator>=4.0.6 in /Users/sirisadashiva/anaconda3/lib/python3.6/site-packages (from plotly) (4.3.0)\n",
      "Requirement already satisfied: nbformat>=4.2 in /Users/sirisadashiva/anaconda3/lib/python3.6/site-packages (from plotly) (4.4.0)\n",
      "Requirement already satisfied: pytz in /Users/sirisadashiva/anaconda3/lib/python3.6/site-packages (from plotly) (2018.4)\n",
      "Requirement already satisfied: requests in /Users/sirisadashiva/anaconda3/lib/python3.6/site-packages (from plotly) (2.18.4)\n",
      "Requirement already satisfied: ipython_genutils in /Users/sirisadashiva/anaconda3/lib/python3.6/site-packages (from nbformat>=4.2->plotly) (0.2.0)\n",
      "Requirement already satisfied: traitlets>=4.1 in /Users/sirisadashiva/anaconda3/lib/python3.6/site-packages (from nbformat>=4.2->plotly) (4.3.2)\n",
      "Requirement already satisfied: jsonschema!=2.5.0,>=2.4 in /Users/sirisadashiva/anaconda3/lib/python3.6/site-packages (from nbformat>=4.2->plotly) (2.6.0)\n",
      "Requirement already satisfied: jupyter_core in /Users/sirisadashiva/anaconda3/lib/python3.6/site-packages (from nbformat>=4.2->plotly) (4.4.0)\n",
      "Requirement already satisfied: chardet<3.1.0,>=3.0.2 in /Users/sirisadashiva/anaconda3/lib/python3.6/site-packages (from requests->plotly) (3.0.4)\n",
      "Requirement already satisfied: idna<2.7,>=2.5 in /Users/sirisadashiva/anaconda3/lib/python3.6/site-packages (from requests->plotly) (2.6)\n",
      "Requirement already satisfied: urllib3<1.23,>=1.21.1 in /Users/sirisadashiva/anaconda3/lib/python3.6/site-packages (from requests->plotly) (1.22)\n",
      "Requirement already satisfied: certifi>=2017.4.17 in /Users/sirisadashiva/anaconda3/lib/python3.6/site-packages (from requests->plotly) (2018.8.24)\n",
      "Collecting plotly\n",
      "\u001b[?25l  Downloading https://files.pythonhosted.org/packages/37/25/32fb6f58bfc6f462d61bf0de95e8c0bbf07bfaba11ed0ecb81c0590f3584/plotly-3.7.1-py2.py3-none-any.whl (35.7MB)\n",
      "\u001b[K    100% |████████████████████████████████| 35.7MB 181kB/s ta 0:00:011    92% |█████████████████████████████▌  | 32.8MB 3.1MB/s eta 0:00:01\n",
      "\u001b[?25hRequirement already satisfied, skipping upgrade: pytz in /Users/sirisadashiva/anaconda3/lib/python3.6/site-packages (from plotly) (2018.4)\n",
      "Requirement already satisfied, skipping upgrade: requests in /Users/sirisadashiva/anaconda3/lib/python3.6/site-packages (from plotly) (2.18.4)\n",
      "Requirement already satisfied, skipping upgrade: nbformat>=4.2 in /Users/sirisadashiva/anaconda3/lib/python3.6/site-packages (from plotly) (4.4.0)\n",
      "Requirement already satisfied, skipping upgrade: decorator>=4.0.6 in /Users/sirisadashiva/anaconda3/lib/python3.6/site-packages (from plotly) (4.3.0)\n",
      "Collecting retrying>=1.3.3 (from plotly)\n",
      "  Downloading https://files.pythonhosted.org/packages/44/ef/beae4b4ef80902f22e3af073397f079c96969c69b2c7d52a57ea9ae61c9d/retrying-1.3.3.tar.gz\n",
      "Requirement already satisfied, skipping upgrade: six in /Users/sirisadashiva/anaconda3/lib/python3.6/site-packages (from plotly) (1.11.0)\n",
      "Requirement already satisfied, skipping upgrade: chardet<3.1.0,>=3.0.2 in /Users/sirisadashiva/anaconda3/lib/python3.6/site-packages (from requests->plotly) (3.0.4)\n",
      "Requirement already satisfied, skipping upgrade: idna<2.7,>=2.5 in /Users/sirisadashiva/anaconda3/lib/python3.6/site-packages (from requests->plotly) (2.6)\n",
      "Requirement already satisfied, skipping upgrade: urllib3<1.23,>=1.21.1 in /Users/sirisadashiva/anaconda3/lib/python3.6/site-packages (from requests->plotly) (1.22)\n",
      "Requirement already satisfied, skipping upgrade: certifi>=2017.4.17 in /Users/sirisadashiva/anaconda3/lib/python3.6/site-packages (from requests->plotly) (2018.8.24)\n",
      "Requirement already satisfied, skipping upgrade: ipython_genutils in /Users/sirisadashiva/anaconda3/lib/python3.6/site-packages (from nbformat>=4.2->plotly) (0.2.0)\n",
      "Requirement already satisfied, skipping upgrade: traitlets>=4.1 in /Users/sirisadashiva/anaconda3/lib/python3.6/site-packages (from nbformat>=4.2->plotly) (4.3.2)\n",
      "Requirement already satisfied, skipping upgrade: jsonschema!=2.5.0,>=2.4 in /Users/sirisadashiva/anaconda3/lib/python3.6/site-packages (from nbformat>=4.2->plotly) (2.6.0)\n",
      "Requirement already satisfied, skipping upgrade: jupyter_core in /Users/sirisadashiva/anaconda3/lib/python3.6/site-packages (from nbformat>=4.2->plotly) (4.4.0)\n",
      "Building wheels for collected packages: retrying\n",
      "  Building wheel for retrying (setup.py) ... \u001b[?25ldone\n",
      "\u001b[?25h  Stored in directory: /Users/sirisadashiva/Library/Caches/pip/wheels/d7/a9/33/acc7b709e2a35caa7d4cae442f6fe6fbf2c43f80823d46460c\n",
      "Successfully built retrying\n",
      "Installing collected packages: retrying, plotly\n",
      "  Found existing installation: plotly 2.6.0\n",
      "    Uninstalling plotly-2.6.0:\n",
      "      Successfully uninstalled plotly-2.6.0\n",
      "Successfully installed plotly-3.7.1 retrying-1.3.3\n"
     ]
    }
   ],
   "source": [
    "%matplotlib inline\n",
    "!pip install --user scikit-learn\n",
    "!pip3 install --user seaborn==0.9.0 \n",
    "!pip install matplotlib-venn\n",
    "!pip install scipy\n",
    "!pip install plotly \n",
    "!pip install plotly --upgrade"
   ]
  },
  {
   "cell_type": "code",
   "execution_count": 114,
   "metadata": {},
   "outputs": [],
   "source": [
    "import matplotlib.pyplot as plt\n",
    "import pandas as pd\n",
    "import numpy as np\n",
    "from clean import assay_transpose\n",
    "from clean import manifest_clinical_merge\n",
    "from clean import assay_clinical_merge\n",
    "from sklearn.model_selection import KFold \n",
    "from sklearn.model_selection import train_test_split\n",
    "from sklearn.ensemble import RandomForestClassifier\n",
    "from sklearn.metrics import confusion_matrix, classification_report\n",
    "from sklearn.metrics import accuracy_score\n",
    "from sklearn.metrics import roc_curve,auc\n",
    "from matplotlib_venn import venn2\n",
    "import seaborn as sns\n"
   ]
  },
  {
   "cell_type": "markdown",
   "metadata": {},
   "source": [
    "# I. Data Preprocessing\n",
    "### Please make sure to run the pd.read_csv command by specififying the correct directory that contains the csv file "
   ]
  },
  {
   "cell_type": "code",
   "execution_count": 86,
   "metadata": {},
   "outputs": [],
   "source": [
    "pd.options.mode.chained_assignment = None\n",
    "manifest_df = pd.read_csv('../BioInformatics_Project/Manifest_Data/GCD_TARGET_Data_Manifest_AML_NBL_WT_RT.csv')\n",
    "aml_disc_df = pd.read_excel('../BioInformatics_Project/Clinical_Data/TARGET_AML_ClinicalData_20160714.xlsx')\n",
    "AML_df = manifest_clinical_merge(manifest_df, aml_disc_df, 'TARGET-AML')\n",
    "assay_df = pd.read_csv('../BioInformatics_Project/Expn_Data/TARGET_NBL_AML_RT_WT_TMMCPM_log2_Norm_Counts.csv.zip')\n",
    "assay_t_df = assay_transpose(assay_df)\n",
    "AML_genes = assay_clinical_merge(assay_t_df, AML_df)"
   ]
  },
  {
   "cell_type": "code",
   "execution_count": 87,
   "metadata": {},
   "outputs": [],
   "source": [
    "df1 = AML_genes[AML_genes['Diagnostic ID'].isin(('09A', '03A', '01A'))]\n",
    "df2 = df1[df1['Risk group'] != 'Unknown'].copy()\n",
    "df2['Risk_Group'] = df2['Risk group'].apply(lambda x: (x == 'Low') * 1)\n"
   ]
  },
  {
   "cell_type": "code",
   "execution_count": 88,
   "metadata": {},
   "outputs": [],
   "source": [
    "data = df2.iloc[:,:-1]\n",
    "X = data.iloc[:,84:-4]\n",
    "X = X.apply(pd.to_numeric)\n",
    "y = df2.loc[data.index, 'Risk_Group']"
   ]
  },
  {
   "cell_type": "code",
   "execution_count": 89,
   "metadata": {},
   "outputs": [
    {
     "data": {
      "text/plain": [
       "(137, 21403)"
      ]
     },
     "execution_count": 89,
     "metadata": {},
     "output_type": "execute_result"
    }
   ],
   "source": [
    "X.shape"
   ]
  },
  {
   "cell_type": "code",
   "execution_count": 90,
   "metadata": {},
   "outputs": [
    {
     "data": {
      "text/plain": [
       "0    77\n",
       "1    60\n",
       "Name: Risk_Group, dtype: int64"
      ]
     },
     "execution_count": 90,
     "metadata": {},
     "output_type": "execute_result"
    }
   ],
   "source": [
    "y.value_counts()"
   ]
  },
  {
   "cell_type": "markdown",
   "metadata": {},
   "source": [
    "#### Total count of:  Risk_Group 'Low' = 60;  Risk_Group 'High' = 77"
   ]
  },
  {
   "cell_type": "markdown",
   "metadata": {},
   "source": [
    "# II. Feature Selection: Correlation\n",
    "### Calculating correlation coefficients for all the genes"
   ]
  },
  {
   "cell_type": "code",
   "execution_count": 91,
   "metadata": {},
   "outputs": [],
   "source": [
    "correlation_matrix = X.corr()"
   ]
  },
  {
   "cell_type": "code",
   "execution_count": 92,
   "metadata": {},
   "outputs": [
    {
     "data": {
      "text/plain": [
       "(137, 16841)"
      ]
     },
     "execution_count": 92,
     "metadata": {},
     "output_type": "execute_result"
    }
   ],
   "source": [
    "#Get highly correlated co-efficients\n",
    "upper = correlation_matrix.where(np.triu(np.ones(correlation_matrix.shape), k=1).astype(np.bool))\n",
    "to_drop = [column for column in upper.columns if any(upper[column] >= 0.80)]\n",
    "\n",
    "#drop highly correlated coefficients \n",
    "for i in to_drop:\n",
    "    del X[i]\n",
    "    \n",
    "X.shape"
   ]
  },
  {
   "cell_type": "markdown",
   "metadata": {},
   "source": [
    "### After feature selection, we have 16841 genes out of 21403 genes"
   ]
  },
  {
   "cell_type": "markdown",
   "metadata": {},
   "source": [
    "# III. Modeling"
   ]
  },
  {
   "cell_type": "markdown",
   "metadata": {},
   "source": [
    "### Split the data into test and train sets "
   ]
  },
  {
   "cell_type": "code",
   "execution_count": 93,
   "metadata": {},
   "outputs": [],
   "source": [
    "X_train, X_test, y_train, y_test = train_test_split(X, y, test_size=0.20, random_state=8)"
   ]
  },
  {
   "cell_type": "markdown",
   "metadata": {},
   "source": [
    "### Method: Random Forest Classification"
   ]
  },
  {
   "cell_type": "code",
   "execution_count": 108,
   "metadata": {},
   "outputs": [],
   "source": [
    "#Initialize K-Fold: k = 10\n",
    "kf = KFold(n_splits=10,shuffle=True)\n",
    "\n",
    "#Random Forest Classifier\n",
    "clf = RandomForestClassifier(n_estimators=80)\n",
    "\n",
    "#Initialize predictions\n",
    "predictions =[]\n",
    "\n",
    "#Run 10 times\n",
    "for k, (train, test) in enumerate(kf.split(X, y)):\n",
    "    #Fit and train the model\n",
    "    clf.fit(X_train,y_train)\n",
    "    \n",
    "    #Get the prediction\n",
    "    predictions.append(clf.score(X_test, y_test))"
   ]
  },
  {
   "cell_type": "markdown",
   "metadata": {},
   "source": [
    "### Calculate Metrics"
   ]
  },
  {
   "cell_type": "code",
   "execution_count": 109,
   "metadata": {},
   "outputs": [
    {
     "name": "stdout",
     "output_type": "stream",
     "text": [
      "Accuracy of the Random Forest Classifier is \n",
      "0.928571428571\n",
      "------------------------------------------------\n",
      "Confusion Matrix:\n",
      "[[18  1]\n",
      " [ 1  8]]\n",
      "------------------------------------------------\n",
      "Classification Report:\n",
      "             precision    recall  f1-score   support\n",
      "\n",
      "          0       0.95      0.95      0.95        19\n",
      "          1       0.89      0.89      0.89         9\n",
      "\n",
      "avg / total       0.93      0.93      0.93        28\n",
      "\n",
      "------------------------------------------------\n"
     ]
    },
    {
     "data": {
      "image/png": "[encoded data removed]",
      "text/plain": [
       "<matplotlib.figure.Figure at 0x1a2685b2e8>"
      ]
     },
     "metadata": {},
     "output_type": "display_data"
    },
    {
     "name": "stdout",
     "output_type": "stream",
     "text": [
      "Area under curve (AUC):  0.918128654971\n"
     ]
    }
   ],
   "source": [
    "#Accuracy \n",
    "print(\"Accuracy of the Random Forest Classifier is \")\n",
    "print(sum(predictions) / float(len(predictions)))\n",
    "print(\"------------------------------------------------\")\n",
    "\n",
    "#Confusion Matrix\n",
    "print(\"Confusion Matrix:\")\n",
    "print(confusion_matrix(y_test, clf.predict(X_test)))\n",
    "print(\"------------------------------------------------\")\n",
    "\n",
    "#Classification Report\n",
    "print(\"Classification Report:\")\n",
    "print(classification_report(y_test, clf.predict(X_test)))\n",
    "print(\"------------------------------------------------\")\n",
    "\n",
    "#Area Under Curve \n",
    "y_score = clf.predict(X_test)\n",
    "fpr, tpr, _ = roc_curve(y_test, y_score)\n",
    "plt.plot(fpr,tpr)\n",
    "plt.plot((0,1), ls='dashed',color='black')\n",
    "plt.show()\n",
    "print ('Area under curve (AUC): ', auc(fpr,tpr))\n"
   ]
  },
  {
   "cell_type": "markdown",
   "metadata": {},
   "source": [
    "### Feature Importance: Top 10 Genes"
   ]
  },
  {
   "cell_type": "code",
   "execution_count": 111,
   "metadata": {
    "scrolled": true
   },
   "outputs": [
    {
     "data": {
      "text/plain": [
       "<matplotlib.axes._subplots.AxesSubplot at 0x1a1545b588>"
      ]
     },
     "execution_count": 111,
     "metadata": {},
     "output_type": "execute_result"
    },
    {
     "data": {
      "image/png": "[encoded data removed]",
      "text/plain": [
       "<matplotlib.figure.Figure at 0x1a155e25c0>"
      ]
     },
     "metadata": {},
     "output_type": "display_data"
    }
   ],
   "source": [
    "(pd.Series(clf.feature_importances_, index=X.columns).nlargest(10).plot(kind='barh')) "
   ]
  },
  {
   "cell_type": "code",
   "execution_count": 97,
   "metadata": {},
   "outputs": [],
   "source": [
    "#pd.set_option('display.max_columns', None)"
   ]
  },
  {
   "cell_type": "markdown",
   "metadata": {},
   "source": [
    "# IV. Visualization"
   ]
  },
  {
   "cell_type": "code",
   "execution_count": 98,
   "metadata": {},
   "outputs": [
    {
     "name": "stdout",
     "output_type": "stream",
     "text": [
      "Total number of women and men: \n"
     ]
    },
    {
     "data": {
      "text/plain": [
       "Female    69\n",
       "Male      68\n",
       "Name: Gender, dtype: int64"
      ]
     },
     "execution_count": 98,
     "metadata": {},
     "output_type": "execute_result"
    }
   ],
   "source": [
    "#df2['Low Risk'].value_counts()\n",
    "#pd.set_option('display.max_columns', None)\n",
    "temp = df2.loc[df2['Risk_Group'] == 0]\n",
    "temp2 = df2.loc[AML_genes['Gender'] == 'Female']\n",
    "temp3 = df2.loc[AML_genes['Gender'] == 'Male']\n",
    "\n",
    "df2['FLT3_ITD_isPositive'] = df2['FLT3/ITD positive?'].apply(lambda x: 'No' if(x == 'NO') else 'Yes')\n",
    "\n",
    "print(\"Total number of women and men: \")\n",
    "df2['Gender'].value_counts()\n",
    "\n",
    "\n",
    "\n"
   ]
  },
  {
   "cell_type": "markdown",
   "metadata": {},
   "source": [
    "### Venn Diagram that show how many women have high risk\n"
   ]
  },
  {
   "cell_type": "code",
   "execution_count": 99,
   "metadata": {},
   "outputs": [
    {
     "data": {
      "image/png": "[encoded data removed]",
      "text/plain": [
       "<matplotlib.figure.Figure at 0x1a2204d898>"
      ]
     },
     "metadata": {},
     "output_type": "display_data"
    }
   ],
   "source": [
    "# PLOTTING VENN DIAGRAM\n",
    "plt.figure(figsize=(5,5))\n",
    "set1 = set(temp['id'])\n",
    "set2 = set(temp2['id'])\n",
    "\n",
    "venn2([set1, set2], ('High Risk', 'Female'))\n",
    "plt.show()"
   ]
  },
  {
   "cell_type": "markdown",
   "metadata": {},
   "source": [
    "### Venn Diagram that shows how many men have high risk\n"
   ]
  },
  {
   "cell_type": "code",
   "execution_count": 100,
   "metadata": {},
   "outputs": [
    {
     "data": {
      "image/png": "[encoded data removed]",
      "text/plain": [
       "<matplotlib.figure.Figure at 0x1a0facd6a0>"
      ]
     },
     "metadata": {},
     "output_type": "display_data"
    }
   ],
   "source": [
    "plt.figure(figsize=(5,5))\n",
    "set1 = set(temp['id'])\n",
    "set2 = set(temp3['id'])\n",
    "\n",
    "venn2([set1, set2], ('High Risk', 'Male'))\n",
    "plt.show()"
   ]
  },
  {
   "cell_type": "markdown",
   "metadata": {},
   "source": [
    "### From the above plots we can see the number of women having high risk is greater than the number of men having high risk"
   ]
  },
  {
   "cell_type": "markdown",
   "metadata": {},
   "source": [
    "### Factor plot that shows the division of risk groups by the vital status"
   ]
  },
  {
   "cell_type": "code",
   "execution_count": 101,
   "metadata": {},
   "outputs": [
    {
     "data": {
      "image/png": "[encoded data removed]",
      "text/plain": [
       "<matplotlib.figure.Figure at 0x1a21dea048>"
      ]
     },
     "metadata": {},
     "output_type": "display_data"
    }
   ],
   "source": [
    "g = sns.catplot(x=\"Risk group\", y=\"Event Free Survival Time in Days\",col = \"Vital Status\",data=df2, saturation=.5,kind=\"bar\", ci=None, height=6,aspect=.7)\n"
   ]
  },
  {
   "cell_type": "markdown",
   "metadata": {},
   "source": [
    "### Factorplot that shows the division of risk groups by FLT3_ITD positive"
   ]
  },
  {
   "cell_type": "code",
   "execution_count": 102,
   "metadata": {},
   "outputs": [
    {
     "data": {
      "image/png": "[encoded data removed]",
      "text/plain": [
       "<matplotlib.figure.Figure at 0x1a28d55438>"
      ]
     },
     "metadata": {},
     "output_type": "display_data"
    }
   ],
   "source": [
    "g = sns.catplot(x=\"Risk group\", y=\"Event Free Survival Time in Days\",col = \"FLT3_ITD_isPositive\",data=df2, saturation=.5,kind=\"bar\", ci=None, height=6,aspect=.7)\n"
   ]
  },
  {
   "cell_type": "markdown",
   "metadata": {},
   "source": [
    "### Heatmap of the top ten genes identified by Random Forest Classification Model"
   ]
  },
  {
   "cell_type": "code",
   "execution_count": 115,
   "metadata": {},
   "outputs": [],
   "source": [
    "# If the following imports fail, please visit https://plot.ly/ipython-notebooks/bioinformatics/ and import the necessary libraries mentioned\n",
    "from scipy.spatial.distance import pdist, squareform\n",
    "import matplotlib.pyplot as plt\n",
    "import plotly.plotly as py\n",
    "from plotly.graph_objs import *\n",
    "\n"
   ]
  },
  {
   "cell_type": "code",
   "execution_count": 104,
   "metadata": {},
   "outputs": [
    {
     "data": {
      "text/html": [
       "<iframe id=\"igraph\" scrolling=\"no\" style=\"border:none;\" seamless=\"seamless\" src=\"https://plot.ly/~sirisadashiva/20.embed\" height=\"525px\" width=\"100%\"></iframe>"
      ],
      "text/plain": [
       "<plotly.tools.PlotlyDisplay object>"
      ]
     },
     "execution_count": 104,
     "metadata": {},
     "output_type": "execute_result"
    }
   ],
   "source": [
    "cols = ['ENSG00000137449.14','ENSG00000166979.11','ENSG00000164929.15','ENSG00000160013.7','ENSG00000129194.6', \n",
    "'ENSG00000132470.12','ENSG00000139117.12','ENSG00000138028.13','ENSG00000144668.10','ENSG00000116176.6' ]\n",
    "\n",
    "data_dist = pdist(df2[cols].as_matrix().transpose())\n",
    "data = Data([\n",
    "    Heatmap(\n",
    "        z=squareform(data_dist), colorscale='YIGnBu',\n",
    "        x=cols,\n",
    "        y=cols,     # y-axis labels\n",
    "    )\n",
    "])\n",
    "layout = Layout(\n",
    "    title='Heatmap of Top Ten Genes Identified By Random Forest Classification',\n",
    "    autosize=False,\n",
    "    margin=Margin(\n",
    "        l=200,\n",
    "        b=200,\n",
    "        pad=4\n",
    "    ),\n",
    "    xaxis=XAxis(\n",
    "        showgrid=False, # remove grid\n",
    "        autotick=False, # custom ticks\n",
    "        dtick=1,        # show 1 tick per day\n",
    "    ),\n",
    "    yaxis=YAxis(\n",
    "        showgrid=False,   # remove grid\n",
    "        autotick=False,   # custom ticks\n",
    "        dtick=1           # show 1 tick per day\n",
    "    ),\n",
    ")\n",
    "fig = Figure(data=data, layout=layout)\n",
    "py.iplot(fig, width=900, height=900)"
   ]
  }
 ],
 "metadata": {
  "kernelspec": {
   "display_name": "Python 3",
   "language": "python",
   "name": "python3"
  },
  "language_info": {
   "codemirror_mode": {
    "name": "ipython",
    "version": 3
   },
   "file_extension": ".py",
   "mimetype": "text/x-python",
   "name": "python",
   "nbconvert_exporter": "python",
   "pygments_lexer": "ipython3",
   "version": "3.6.4"
  }
 },
 "nbformat": 4,
 "nbformat_minor": 2
}
