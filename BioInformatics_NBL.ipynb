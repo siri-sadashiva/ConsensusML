{
 "cells": [
  {
   "cell_type": "markdown",
   "metadata": {},
   "source": [
    "# TCSS 588 BioInformatics Project: Identifying key genes in NBL\n",
    "## Siri Sadashiva"
   ]
  },
  {
   "cell_type": "markdown",
   "metadata": {},
   "source": [
    "### README\n",
    "#### The below cell installs all the required dependencies required to run for this notebook. If the installation fails, please install the following by running the commands in the terminal:\n",
    "\n",
    "### Scikit\n",
    "1. conda install scikit-learn (OR)\n",
    "2. pip install -U scikit-learn\n",
    "\n",
    "---------------------------------------------------------------------------------------------------------------------\n",
    "### Matplotlib\n",
    "1. conda install -c conda-forge matplotlib (OR)\n",
    "2. pip install --upgrade setuptools \n",
    "   pip install matplotlib\n",
    "\n",
    "---------------------------------------------------------------------------------------------------------------------\n"
   ]
  },
  {
   "cell_type": "code",
   "execution_count": null,
   "metadata": {},
   "outputs": [],
   "source": [
    "%matplotlib inline\n",
    "!pip install --user scikit-learn"
   ]
  },
  {
   "cell_type": "code",
   "execution_count": 29,
   "metadata": {},
   "outputs": [],
   "source": [
    "import matplotlib.pyplot as plt\n",
    "import pandas as pd\n",
    "import seaborn as sns\n",
    "import numpy as np\n",
    "import pydotplus\n",
    "from clean import assay_transpose\n",
    "from clean import manifest_clinical_merge\n",
    "from clean import assay_clinical_merge\n",
    "from sklearn.linear_model import RidgeCV, LassoCV, Ridge, Lasso\n",
    "from matplotlib_venn import venn2\n",
    "from beautifultable import BeautifulTable\n",
    "from sklearn.model_selection import KFold \n",
    "from sklearn.model_selection import train_test_split\n",
    "from sklearn.ensemble import RandomForestClassifier\n",
    "from sklearn.metrics import confusion_matrix, classification_report\n",
    "from sklearn.metrics import accuracy_score\n",
    "from sklearn.metrics import roc_curve,auc\n"
   ]
  },
  {
   "cell_type": "markdown",
   "metadata": {},
   "source": [
    "# I. Data Preprocessing\n",
    "### Please make sure to run the pd.read_csv command by specififying the correct directory that contains the csv file "
   ]
  },
  {
   "cell_type": "code",
   "execution_count": 30,
   "metadata": {},
   "outputs": [],
   "source": [
    "pd.options.mode.chained_assignment = None\n",
    "manifest_df = pd.read_csv('../BioInformatics_Project/Manifest_Data/GCD_TARGET_Data_Manifest_AML_NBL_WT_RT.csv')\n",
    "nbl_disc_df = pd.read_excel('../BioInformatics_Project/Clinical_Data/TARGET_NBL_ClinicalData_20151124.xlsx')\n",
    "NBL_df = manifest_clinical_merge(manifest_df, nbl_disc_df, 'TARGET-NBL')\n",
    "assay_df = pd.read_csv('../BioInformatics_Project/Expn_Data/TARGET_NBL_AML_RT_WT_TMMCPM_log2_Norm_Counts.csv.zip')\n",
    "assay_t_df = assay_transpose(assay_df)\n",
    "NBL_genes = assay_clinical_merge(assay_t_df, NBL_df)"
   ]
  },
  {
   "cell_type": "code",
   "execution_count": 31,
   "metadata": {},
   "outputs": [],
   "source": [
    "NBL_genes['Risk_Group'] = NBL_genes['COG Risk Group'].apply(lambda x: 1 if x == 'Low Risk' else 0)\n"
   ]
  },
  {
   "cell_type": "code",
   "execution_count": 32,
   "metadata": {},
   "outputs": [],
   "source": [
    "X = NBL_genes.iloc[:,53:-5]\n",
    "y = NBL_genes.loc[NBL_genes.index,'Risk_Group']\n",
    "X = X.apply(pd.to_numeric)"
   ]
  },
  {
   "cell_type": "code",
   "execution_count": 33,
   "metadata": {},
   "outputs": [
    {
     "data": {
      "text/plain": [
       "(150, 21403)"
      ]
     },
     "execution_count": 33,
     "metadata": {},
     "output_type": "execute_result"
    }
   ],
   "source": [
    "X.shape"
   ]
  },
  {
   "cell_type": "code",
   "execution_count": 34,
   "metadata": {},
   "outputs": [
    {
     "data": {
      "text/plain": [
       "0    136\n",
       "1     14\n",
       "Name: Risk_Group, dtype: int64"
      ]
     },
     "execution_count": 34,
     "metadata": {},
     "output_type": "execute_result"
    }
   ],
   "source": [
    "y.value_counts()"
   ]
  },
  {
   "cell_type": "markdown",
   "metadata": {},
   "source": [
    "#### Total count of:  Risk_Group 'Low' = 60;  Risk_Group 'High' = 77"
   ]
  },
  {
   "cell_type": "markdown",
   "metadata": {},
   "source": [
    "# II. Feature Selection: Correlation\n",
    "### Calculating correlation coefficients for all the genes"
   ]
  },
  {
   "cell_type": "code",
   "execution_count": null,
   "metadata": {},
   "outputs": [],
   "source": [
    "correlation_matrix = X.corr()"
   ]
  },
  {
   "cell_type": "code",
   "execution_count": null,
   "metadata": {},
   "outputs": [],
   "source": [
    "#Get highly correlated co-efficients\n",
    "upper = correlation_matrix.where(np.triu(np.ones(correlation_matrix.shape), k=1).astype(np.bool))\n",
    "to_drop = [column for column in upper.columns if any(upper[column] >= 0.80)]\n",
    "\n",
    "#drop highly correlated coefficients \n",
    "for i in to_drop:\n",
    "    del X[i]\n",
    "    \n",
    "X.shape"
   ]
  },
  {
   "cell_type": "markdown",
   "metadata": {},
   "source": [
    "### After feature selection, we have 17556 genes out of 21403 genes"
   ]
  },
  {
   "cell_type": "markdown",
   "metadata": {},
   "source": [
    "# III. Modeling"
   ]
  },
  {
   "cell_type": "markdown",
   "metadata": {},
   "source": [
    "### Split the data into test and train sets "
   ]
  },
  {
   "cell_type": "code",
   "execution_count": null,
   "metadata": {},
   "outputs": [],
   "source": [
    "X_train, X_test, y_train, y_test = train_test_split(X, y, test_size=0.33, random_state=8)"
   ]
  },
  {
   "cell_type": "code",
   "execution_count": null,
   "metadata": {},
   "outputs": [],
   "source": [
    "#Initialize K-Fold: k = 10\n",
    "kf = KFold(n_splits=10,shuffle=True)\n",
    "\n",
    "#Random Forest Classifier\n",
    "clf = RandomForestClassifier(n_estimators=100)\n",
    "\n",
    "#Initialize predictions\n",
    "predictions =[]\n",
    "\n",
    "#Run 10 times\n",
    "for k, (train, test) in enumerate(kf.split(X, y)):\n",
    "    #Fit and train the model\n",
    "    clf.fit(X_train,y_train)\n",
    "    \n",
    "    #Get the prediction\n",
    "    predictions.append(clf.score(X_test, y_test))"
   ]
  },
  {
   "cell_type": "markdown",
   "metadata": {},
   "source": [
    "### Calculate Metrics"
   ]
  },
  {
   "cell_type": "code",
   "execution_count": null,
   "metadata": {},
   "outputs": [],
   "source": [
    "#Accuracy \n",
    "print(\"Accuracy of the Random Forest Classifier is \")\n",
    "print(sum(predictions) / float(len(predictions)))\n",
    "print(\"------------------------------------------------\")\n",
    "\n",
    "#Confusion Matrix\n",
    "print(\"Confusion Matrix:\")\n",
    "print(confusion_matrix(y_test, clf.predict(X_test)))\n",
    "print(\"------------------------------------------------\")\n",
    "\n",
    "#Classification Report\n",
    "print(\"Classification Report:\")\n",
    "print(classification_report(y_test, clf.predict(X_test)))\n",
    "print(\"------------------------------------------------\")\n",
    "\n",
    "#Area Under Curve \n",
    "y_score = clf.predict(X_test)\n",
    "fpr, tpr, _ = roc_curve(y_test, y_score)\n",
    "plt.plot(fpr,tpr)\n",
    "plt.plot((0,1), ls='dashed',color='black')\n",
    "plt.show()\n",
    "print ('Area under curve (AUC): ', auc(fpr,tpr))\n"
   ]
  },
  {
   "cell_type": "markdown",
   "metadata": {},
   "source": [
    "### Feature Importance: Top 10 Genes"
   ]
  },
  {
   "cell_type": "code",
   "execution_count": null,
   "metadata": {},
   "outputs": [],
   "source": [
    "(pd.Series(clf.feature_importances_, index=X.columns).nlargest(10).plot(kind='barh')) "
   ]
  },
  {
   "cell_type": "code",
   "execution_count": null,
   "metadata": {},
   "outputs": [],
   "source": []
  }
 ],
 "metadata": {
  "kernelspec": {
   "display_name": "Python 3",
   "language": "python",
   "name": "python3"
  },
  "language_info": {
   "codemirror_mode": {
    "name": "ipython",
    "version": 3
   },
   "file_extension": ".py",
   "mimetype": "text/x-python",
   "name": "python",
   "nbconvert_exporter": "python",
   "pygments_lexer": "ipython3",
   "version": "3.6.4"
  }
 },
 "nbformat": 4,
 "nbformat_minor": 2
}
